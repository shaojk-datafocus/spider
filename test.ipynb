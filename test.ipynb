{
 "cells": [
  {
   "cell_type": "code",
   "execution_count": 65,
   "metadata": {},
   "outputs": [],
   "source": [
    "import re\n",
    "import json\n",
    "from spider.spiders.TmallSpider import TmallSpider\n",
    "from spider.settings import GLOBAL_CONFIG\n",
    "from easydict import EasyDict"
   ]
  },
  {
   "cell_type": "code",
   "execution_count": 66,
   "metadata": {},
   "outputs": [],
   "source": [
    "self = TmallSpider(EasyDict(GLOBAL_CONFIG))"
   ]
  },
  {
   "cell_type": "code",
   "execution_count": 3,
   "metadata": {},
   "outputs": [],
   "source": [
    "self.login()\n",
    "self.to_sycm()"
   ]
  },
  {
   "cell_type": "code",
   "execution_count": 40,
   "metadata": {},
   "outputs": [],
   "source": [
    "self.synchronize_cookies()"
   ]
  },
  {
   "cell_type": "code",
   "execution_count": 22,
   "metadata": {},
   "outputs": [],
   "source": [
    "def parse(response):\n",
    "    print()\n",
    "    print(response)\n",
    "    print(dir(response))"
   ]
  },
  {
   "cell_type": "code",
   "execution_count": 15,
   "metadata": {},
   "outputs": [],
   "source": [
    "self.headers[\"content-type\"]=\"application/json;chartset=uft-8\""
   ]
  },
  {
   "cell_type": "code",
   "execution_count": 67,
   "metadata": {},
   "outputs": [
    {
     "data": {
      "text/plain": [
       "<GET https://sycm.taobao.com/flow/item/jump/source.json?dateRange=2021-11-01%7C2021-11-05&dateType=recent7&order=desc&orderBy=uv&device=2&itemId=600432180151&indexCode=uv%2CcrtByrCnt%2CcrtRate&_=1636636304992>"
      ]
     },
     "execution_count": 67,
     "metadata": {},
     "output_type": "execute_result"
    }
   ],
   "source": [
    "r = self.get(\n",
    "    f\"https://sycm.taobao.com/flow/item/jump/source.json?dateRange=2021-11-01%7C2021-11-05&dateType=recent7&order=desc&orderBy=uv&device=2&itemId=600432180151&indexCode=uv%2CcrtByrCnt%2CcrtRate&_={self.timestamp}\", callback=self.parse)\n",
    "r"
   ]
  },
  {
   "cell_type": "code",
   "execution_count": 57,
   "metadata": {},
   "outputs": [],
   "source": [
    "url = f\"https://sycm.taobao.com/flow/item/jump/source.json?dateRange=2021-11-01%7C2021-11-05&dateType=recent7&order=desc&orderBy=uv&device=2&itemId=600432180151&indexCode=uv%2CcrtByrCnt%2CcrtRate&_={self.timestamp}\""
   ]
  },
  {
   "cell_type": "code",
   "execution_count": 37,
   "metadata": {},
   "outputs": [
    {
     "data": {
      "text/plain": [
       "['CDwindow-7D791285966F0DB5B81DC257112AEB85']"
      ]
     },
     "execution_count": 37,
     "metadata": {},
     "output_type": "execute_result"
    }
   ],
   "source": [
    "self.driver.window_handles"
   ]
  },
  {
   "cell_type": "code",
   "execution_count": 39,
   "metadata": {},
   "outputs": [
    {
     "name": "stderr",
     "output_type": "stream",
     "text": [
      "C:\\Anaconda3\\lib\\site-packages\\ipykernel_launcher.py:1: DeprecationWarning: use driver.switch_to.window instead\n",
      "  \"\"\"Entry point for launching an IPython kernel.\n"
     ]
    }
   ],
   "source": [
    "self.driver.switch_to_window(self.driver.window_handles[0])"
   ]
  },
  {
   "cell_type": "code",
   "execution_count": 52,
   "metadata": {},
   "outputs": [],
   "source": [
    "html = self.driver.page_source"
   ]
  },
  {
   "cell_type": "code",
   "execution_count": 53,
   "metadata": {},
   "outputs": [],
   "source": [
    "\n",
    "html = re.search('\\{\".*\"\\}',html).group()"
   ]
  },
  {
   "cell_type": "code",
   "execution_count": 54,
   "metadata": {},
   "outputs": [],
   "source": [
    "response = json.loads(html)"
   ]
  },
  {
   "cell_type": "code",
   "execution_count": 55,
   "metadata": {},
   "outputs": [
    {
     "data": {
      "text/plain": [
       "{'cartByrCnt': {'value': 0},\n",
       " 'pv': {'value': 0, 'ratio': 0.0},\n",
       " 'pageName': {'value': '手淘微淘'},\n",
       " 'payItmCnt': {'value': 0},\n",
       " 'directPayByrCnt': {'value': 0},\n",
       " 'childPageType': {},\n",
       " 'inWhitelist': {'value': False},\n",
       " 'expUv': {'value': 0},\n",
       " 'fansPayByrCnt': {'value': 0},\n",
       " 'ordItmPayByrCnt': {'value': 0},\n",
       " 'pPageId': {'value': '23'},\n",
       " 'statDate': {'value': 1636214400000},\n",
       " 'uv': {'value': 0},\n",
       " 'cltItmPayByrCnt': {'value': 0},\n",
       " 'payByrCnt': {'value': 0},\n",
       " 'payRate': {'value': 0.0},\n",
       " 'showDesc': {'value': 1},\n",
       " 'jpSelfUv': {'value': 0},\n",
       " 'cltCnt': {'value': 0},\n",
       " 'pageLevel': {'value': 2},\n",
       " 'isCalcPay': {'value': 1},\n",
       " 'pageId': {'value': '23.s1174'},\n",
       " 'payAmt': {'value': 0.0},\n",
       " 'itemId': {'value': '600432180151'},\n",
       " 'pageDesc': {'value': '访客通过手淘客户端的微淘店铺产品点击进入您店铺页面或商品详情页，如从微淘入口。'},\n",
       " 'jpUv': {'value': 0},\n",
       " 'crtByrCnt': {'value': 0},\n",
       " 'crtRate': {'value': 0.0}}"
      ]
     },
     "execution_count": 55,
     "metadata": {},
     "output_type": "execute_result"
    }
   ],
   "source": [
    "response['data'][-1]"
   ]
  },
  {
   "cell_type": "code",
   "execution_count": 58,
   "metadata": {},
   "outputs": [],
   "source": [
    "# from scrapy import Request\n",
    "r = Request(url=url, callback=self.parse, method='GET', headers=self.headers, cookies=self.cookies)"
   ]
  },
  {
   "cell_type": "code",
   "execution_count": 59,
   "metadata": {},
   "outputs": [
    {
     "data": {
      "text/plain": [
       "<GET https://sycm.taobao.com/flow/item/jump/source.json?dateRange=2021-11-01%7C2021-11-05&dateType=recent7&order=desc&orderBy=uv&device=2&itemId=600432180151&indexCode=uv%2CcrtByrCnt%2CcrtRate&_=1636636105608>"
      ]
     },
     "execution_count": 59,
     "metadata": {},
     "output_type": "execute_result"
    }
   ],
   "source": [
    "r"
   ]
  },
  {
   "cell_type": "code",
   "execution_count": 60,
   "metadata": {},
   "outputs": [
    {
     "name": "stdout",
     "output_type": "stream",
     "text": [
      "['__class__', '__delattr__', '__dict__', '__dir__', '__doc__', '__eq__', '__format__', '__ge__', '__getattribute__', '__gt__', '__hash__', '__init__', '__init_subclass__', '__le__', '__lt__', '__module__', '__ne__', '__new__', '__reduce__', '__reduce_ex__', '__repr__', '__setattr__', '__sizeof__', '__slots__', '__str__', '__subclasshook__', '__weakref__', '_body', '_cb_kwargs', '_encoding', '_get_body', '_get_url', '_meta', '_set_body', '_set_url', '_url', 'body', 'callback', 'cb_kwargs', 'cookies', 'copy', 'dont_filter', 'encoding', 'errback', 'flags', 'from_curl', 'headers', 'meta', 'method', 'priority', 'replace', 'url']\n"
     ]
    }
   ],
   "source": [
    "print(dir(r))"
   ]
  },
  {
   "cell_type": "code",
   "execution_count": 62,
   "metadata": {},
   "outputs": [
    {
     "name": "stdout",
     "output_type": "stream",
     "text": [
      "b''\n"
     ]
    }
   ],
   "source": [
    "print(r.body)"
   ]
  },
  {
   "cell_type": "code",
   "execution_count": 64,
   "metadata": {},
   "outputs": [],
   "source": [
    "self.driver.switch_to.alert()"
   ]
  }
 ],
 "metadata": {
  "kernelspec": {
   "display_name": "Python 3",
   "language": "python",
   "name": "python3"
  },
  "language_info": {
   "codemirror_mode": {
    "name": "ipython",
    "version": 3
   },
   "file_extension": ".py",
   "mimetype": "text/x-python",
   "name": "python",
   "nbconvert_exporter": "python",
   "pygments_lexer": "ipython3",
   "version": "3.6.8"
  }
 },
 "nbformat": 4,
 "nbformat_minor": 2
}
